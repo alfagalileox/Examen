{
 "cells": [
  {
   "cell_type": "markdown",
   "metadata": {},
   "source": [
    "# Newton Rhapson\n",
    "\n",
    "El método de newton Rhapson permite encontrar por medio de iteraciones sucesivas los ceros de funciones no lineales, por medio del uso de la forma recursiva:\n",
    "\n",
    "$ x_{n+1} = x_n - \\frac{f(x_n)}{f'(x_n)}$ \n",
    "\n",
    "Donde $f'(x_n)$ es la derivada de la funcón bajo estudio. Este derivada se puede calcular, a través del uso de series de Taylor de la función alrededor del punto $x_n$. Esto es:\n",
    "\n",
    "$$ f(x_n + h) = f(x_n) + \\frac{df(x)}{dx}|_{x_n} h + O(x^2)$$\n",
    "\n",
    "Ignorando los términos de segundo orden:\n",
    "\n",
    "$$\\frac{df}{dx} \\approx \\frac{f(x_n+h) - f(x_n)}{h}$$"
   ]
  },
  {
   "cell_type": "code",
   "execution_count": 98,
   "metadata": {},
   "outputs": [
    {
     "name": "stdout",
     "output_type": "stream",
     "text": [
      "Valor de la raiz: -2.0\n",
      "Valor de la raiz: 1.0\n",
      "Valor de la raiz: 2.0\n"
     ]
    }
   ],
   "source": [
    "import numpy as np\n",
    "import matplotlib.pyplot as plt\n",
    "\n",
    "# definicion de la funcion\n",
    "def f(x):\n",
    "    return (x+2)*(x-2)*(x-1)\n",
    "\n",
    "# definicion de la derivada a través de diferencias centrales\n",
    "def fp( x, h ):\n",
    "    d = (f(x+h) - f(x))/h\n",
    "    return d\n",
    "\n",
    "def iteration_NR( xn, niter ):\n",
    "    h = 0.01\n",
    "    for i in range(niter):\n",
    "        xN = xn - f(xn)/fp(xn, h)\n",
    "        xn = xN\n",
    "    return xn\n",
    "\n",
    "# semillas para las iteraciones\n",
    "niter = 100\n",
    "x1 = iteration_NR( -1.3, niter )\n",
    "x2 = iteration_NR( 1.0, niter )\n",
    "x3 = iteration_NR( 2.5, niter )\n",
    "\n",
    "\n",
    "print(\"Valor de la raiz:\", x1) \n",
    "print(\"Valor de la raiz:\", x2) \n",
    "print(\"Valor de la raiz:\", x3)"
   ]
  },
  {
   "cell_type": "code",
   "execution_count": null,
   "metadata": {},
   "outputs": [],
   "source": []
  }
 ],
 "metadata": {
  "kernelspec": {
   "display_name": "Python 3",
   "language": "python",
   "name": "python3"
  },
  "language_info": {
   "codemirror_mode": {
    "name": "ipython",
    "version": 3
   },
   "file_extension": ".py",
   "mimetype": "text/x-python",
   "name": "python",
   "nbconvert_exporter": "python",
   "pygments_lexer": "ipython3",
   "version": "3.6.6"
  }
 },
 "nbformat": 4,
 "nbformat_minor": 2
}
