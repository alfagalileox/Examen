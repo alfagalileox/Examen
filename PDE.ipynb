{
 "cells": [
  {
   "cell_type": "markdown",
   "metadata": {},
   "source": [
    "# Método de Diferencias Finitas para la solución de PDE's\n",
    "\n",
    "El método de las diferencias finitas consiste en realizar la discretización espacial de los operadores diferenciales que involucra la encuación en derivadas parciales. Por ejemplo consideremos el caso de la ecuación de Poisson:\n",
    "\n",
    "$$ \\nabla^2 \\phi(\\mathbf{r}) = 0$$\n",
    "\n",
    "El operador diferencial $\\nabla^2$ en dos dimensiones se escribe como:\n",
    "\n",
    "$$ \\nabla^2 = \\left( \\frac{\\partial^2}{\\partial x^2} +  \\frac{\\partial^2}{\\partial y^2}  \\right)$$\n",
    "\n",
    "Usando series de Taylor alrededor del punto $x_n$ la segunda derivada se puede escribir como sigue:\n",
    "\n",
    "$$ \\frac{\\partial^2}{\\partial x^2}f(x,y) \\approx \\frac{f(x+h,y)+f(x-h,y)-2f(x,y)}{h^2}$$\n",
    "\n",
    "Del mismo modo para $y$ se cumple que:\n",
    "\n",
    "$$ \\frac{\\partial^2}{\\partial y^2}f(x,y) \\approx \\frac{f(x,y+h)+f(x,y-h)-2f(x,y)}{h^2}$$"
   ]
  },
  {
   "cell_type": "code",
   "execution_count": 51,
   "metadata": {},
   "outputs": [],
   "source": [
    "import numpy as np\n",
    "import matplotlib.pyplot as plt\n",
    "\n",
    "N = 100\n",
    "h = 0.01\n",
    "V0 = np.zeros((100,100),dtype=np.float64)\n",
    "V = np.zeros((100,100),dtype=np.float64)\n",
    "\n",
    "def set_boundary_conditions( V0 ):\n",
    "    V0[:,0] = -10.0\n",
    "    V0[:,-1] = 10.0\n",
    "    return V0\n",
    "\n",
    "niter = 300\n",
    "for k in range(niter):\n",
    "    V0 = set_boundary_conditions( V0 )\n",
    "    for i in range(1,N-1):\n",
    "        for j in range(1,N-1):\n",
    "            V[i,j] = 0.25*( V0[i+1][j] + V0[i-1][j] + V0[i][j+1] + V0[i][j-1] )\n",
    "    V[:,:] = V0[:,:]"
   ]
  },
  {
   "cell_type": "code",
   "execution_count": null,
   "metadata": {},
   "outputs": [],
   "source": []
  }
 ],
 "metadata": {
  "kernelspec": {
   "display_name": "Python 3",
   "language": "python",
   "name": "python3"
  },
  "language_info": {
   "codemirror_mode": {
    "name": "ipython",
    "version": 3
   },
   "file_extension": ".py",
   "mimetype": "text/x-python",
   "name": "python",
   "nbconvert_exporter": "python",
   "pygments_lexer": "ipython3",
   "version": "3.6.6"
  }
 },
 "nbformat": 4,
 "nbformat_minor": 2
}
